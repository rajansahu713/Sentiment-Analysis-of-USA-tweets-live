{
  "nbformat": 4,
  "nbformat_minor": 0,
  "metadata": {
    "colab": {
      "name": "Untitled1.ipynb",
      "provenance": []
    },
    "kernelspec": {
      "name": "python3",
      "display_name": "Python 3"
    }
  },
  "cells": [
    {
      "cell_type": "markdown",
      "metadata": {
        "id": "LjCfo64RFLVa"
      },
      "source": [
        "#Mounting Google colab to Drive"
      ]
    },
    {
      "cell_type": "code",
      "metadata": {
        "id": "N2iq_WZAEUOk",
        "outputId": "9f711376-5cc8-4e73-be45-2d92daf0bb13",
        "colab": {
          "base_uri": "https://localhost:8080/",
          "height": 33
        }
      },
      "source": [
        "from google.colab import drive\n",
        "drive.mount(\"/content/drive\")"
      ],
      "execution_count": 1,
      "outputs": [
        {
          "output_type": "stream",
          "text": [
            "Mounted at /content/drive\n"
          ],
          "name": "stdout"
        }
      ]
    },
    {
      "cell_type": "markdown",
      "metadata": {
        "id": "PB64V8TzFUmr"
      },
      "source": [
        "#Importing Libraries"
      ]
    },
    {
      "cell_type": "code",
      "metadata": {
        "id": "A18M_ccCEsTc"
      },
      "source": [
        "# Importing the libraries\n",
        "import tweepy\n",
        "import re\n",
        "import pickle\n",
        "\n",
        "from tweepy import OAuthHandler"
      ],
      "execution_count": 2,
      "outputs": []
    },
    {
      "cell_type": "markdown",
      "metadata": {
        "id": "bHsbH9_4FYuv"
      },
      "source": [
        "# Loading  save classifier and tfidfmodel"
      ]
    },
    {
      "cell_type": "code",
      "metadata": {
        "id": "U1-Xu3IHEews",
        "outputId": "ab2d5b49-99dd-4136-8f5d-e6357193fef0",
        "colab": {
          "base_uri": "https://localhost:8080/",
          "height": 170
        }
      },
      "source": [
        "# Loading the vectorizer and classfier\n",
        "with open('/content/drive/My Drive/future/NLP/Pretrained/classifier.pickle','rb') as f:\n",
        "    classifier = pickle.load(f)\n",
        "    \n",
        "with open('/content/drive/My Drive/future/NLP/Pretrained/tfidfmodel.pickle','rb') as f:\n",
        "    tfidf = pickle.load(f)    "
      ],
      "execution_count": 3,
      "outputs": [
        {
          "output_type": "stream",
          "text": [
            "/usr/local/lib/python3.6/dist-packages/sklearn/utils/deprecation.py:144: FutureWarning: The sklearn.linear_model.logistic module is  deprecated in version 0.22 and will be removed in version 0.24. The corresponding classes / functions should instead be imported from sklearn.linear_model. Anything that cannot be imported from sklearn.linear_model is now part of the private API.\n",
            "  warnings.warn(message, FutureWarning)\n",
            "/usr/local/lib/python3.6/dist-packages/sklearn/base.py:318: UserWarning: Trying to unpickle estimator LogisticRegression from version 0.18.1 when using version 0.22.2.post1. This might lead to breaking code or invalid results. Use at your own risk.\n",
            "  UserWarning)\n",
            "/usr/local/lib/python3.6/dist-packages/sklearn/base.py:318: UserWarning: Trying to unpickle estimator TfidfTransformer from version 0.18.1 when using version 0.22.2.post1. This might lead to breaking code or invalid results. Use at your own risk.\n",
            "  UserWarning)\n",
            "/usr/local/lib/python3.6/dist-packages/sklearn/base.py:318: UserWarning: Trying to unpickle estimator TfidfVectorizer from version 0.18.1 when using version 0.22.2.post1. This might lead to breaking code or invalid results. Use at your own risk.\n",
            "  UserWarning)\n"
          ],
          "name": "stderr"
        }
      ]
    },
    {
      "cell_type": "markdown",
      "metadata": {
        "id": "hQaPeyk7Fouq"
      },
      "source": [
        "# Connected with twitter developer account"
      ]
    },
    {
      "cell_type": "code",
      "metadata": {
        "id": "uZXJsE5vEZjo",
        "outputId": "7b7caad9-c60d-405d-b341-ddba50918b51",
        "colab": {
          "base_uri": "https://localhost:8080/",
          "height": 1000
        }
      },
      "source": [
        "consumer_key = 'FhdbeNFjUni0vV3ogcgdsasba'\n",
        "consumer_secret = 'xhHtZTR7BVYMtZkAOHaafASFsdd' \n",
        "access_token = '1294146895468609537-sdgasdndfsndmft'\n",
        "access_secret ='7fSxqDn8WLn3oQEwHZNEDKo5yImfabbsafbjerjewkj'\n",
        "\n",
        "auth = tweepy.OAuthHandler(consumer_key, consumer_secret)\n",
        "auth.set_access_token(access_token, access_secret)\n",
        "\n",
        "api = tweepy.API(auth)\n",
        "places = api.geo_search(query=\"Australia\", granularity=\"country\")\n",
        "place_id = places[0].id\n",
        "tweets = api.search(q=\"place:%s\" % place_id, count=100)\n",
        "list_tweets=[]\n",
        "for tweet1 in tweets:\n",
        "    print(tweet1.text + \" | \" + tweet1.place.name if tweet1.place else \"Undefined place\")\n",
        "\n",
        "    list_tweets.append(tweet1.text)\n",
        "\n",
        "# for tweet in list_tweets:\n",
        "#   print(tweet)"
      ],
      "execution_count": 5,
      "outputs": [
        {
          "output_type": "stream",
          "text": [
            "@gully_point Stillll | Melbourne\n",
            "Is it rude to go into a Red Rooster and ask them when they're just going to give up and become a KFC. | Sydney\n",
            "@Breefree_Ow https://t.co/AtQXu3IXbP | Sydney\n",
            "@slsandpet use what force is needed | Melbourne\n",
            "@cantCeemi @Eagles @ManCity Who do you follow again? | Canberra\n",
            "What a try! #NRLW | Melbourne\n",
            "#ColorsTV #Bigboss14 #boycott Colors TV these are the times you are defined. Think carefully .. world is watching y… https://t.co/sSP9Y2VOif | Sydney\n",
            "@jokendray @DustyPee 🤦🏻‍♀️ lockdown is slooooowly sending me nutso | Melbourne\n",
            "@imaracingmom https://t.co/ZQqOyzjGcu | Melbourne\n",
            "My fancy Saturday through virtual Experience Sharing on Further Education👩‍🎓. https://t.co/iCULquzE1t | Sydney\n",
            "@ronInBendigo He's far from an idiot look closer to home and you'll find\n",
            "One | Venus Bay\n",
            "@_shanmoho https://t.co/qagGP1rHrS | Melbourne\n",
            "Thanks so much to the wonderful people of Watson. It was great chatting about how we build a #BetterNormal #greens… https://t.co/UuLFJ5t2PQ | Canberra\n",
            "@Raymartin55 Or God is desperate? | Melbourne\n",
            "https://t.co/P4sd01GV7m | Sydney\n",
            "@Ashkate86 That reminds me, I need to buy a couple of bottles of milk! 🤔 🥛🥛 | Adelaide\n",
            "😡🤬 https://t.co/TYa5nwKrXv | Sydney\n",
            "@ginacarano Can someone make this real please...😂😂 | Sydney\n",
            "Buy this for me and I'll send a Fiat multipla your way https://t.co/SnWMq91lfl | Sydney\n",
            "@CharKD_ Lynch/Broad/Ross ✅\n",
            "\n",
            "Chol/Castagna/Pickett ❌ | Brisbane\n",
            "@KnightkingYCBM My son last night was talking about footy players now with mullets and asked who was the best and I… https://t.co/YeVOpyu2c9 | Canberra\n",
            "@noahfarrelly_ Yeah, great attitude. The task is too big, let’s just give up. | Sydney\n",
            "Right now, my TNs. Because they’re comfortable. Love my vans too. https://t.co/NEsOPgwcjW | Canberra\n",
            "Mum &amp; dad are gonna drop me at Woolies when they go out. Hope mum &amp; dad leave here at 5 so I can rush in for 5-10mi… https://t.co/pe81rkHTjF | Sydney\n",
            "@Oye_protein @Bluntdeep @BadheshaGagan Aaaye same here veere.. sab aajo australia | Melbourne\n",
            "Israel’s Blessing https://t.co/oVgpEoGUBq | Perth (WA)\n",
            "What about you, @KirstiGalbraith &amp; @McIntosh_AUS? | Melbourne\n",
            "Enjoy your weekend! 🦋\n",
            " “Don’t wait for the sunshine to brighten your day” \n",
            "— Anthony T. Hincks \n",
            "\n",
            "#todayslovely #now https://t.co/AczehEjLrb | Melbourne\n",
            "I feel sick when I think about how #FLATUS  passed on the #COVID19 virus to @FLOTUS #Trump 🤒 | Melbourne\n",
            "My Kermit is at his first winery. I told my sister to focus on teaching him how to open and serve the wine. The dri… https://t.co/eHAOsHbDxw | Melbourne\n",
            "Gender reveal party idea 🎉\n",
            "\n",
            "One parent smashes a ‘Double J’ Jeff Jarrett guitar over the head of the other and the… https://t.co/K3VZL85RnK | Melton\n",
            "@DavidBerkelmans NRLW. I am impressed. Assuming you watched the ODI. | Melbourne\n",
            "@ProbablyNotLeah https://t.co/58ndkgEuhH | Sydney\n",
            "@decryption @macsinspace Ok great. Thank you! | Adelaide\n",
            "A friendship to envy. ❤️❤️ https://t.co/uN5znP9fSx | Melbourne\n",
            "@irishflightie IKR more of a bum man though 🤣😂😜 | Melbourne\n",
            "Yep warriors are struggling but the warriors left hand defence with pelite and green is great. #nrlw | Sydney\n",
            "@AngusTaylorMP @AlboMP @australian He is too busy trying to catch his Shetland pony! | Victoria\n",
            "@PialiGupta @NAN_DINI_ Story’s still the same. We won’t hear about BrahMos or Atal tunnel yet Hathras will be on ov… https://t.co/AvPwevjDCB | Sydney\n",
            "My #gratefulacademic top 5 things that got me through #COVID19Vic this week:\n",
            "1. 🧁 w Isaac in the☀️park\n",
            "2. Hearing f… https://t.co/Y7L6neSAaO | Rathdowne Village\n",
            "Reality | Perth (WA)\n",
            "Nice day for a walk... although the cockatoos are screaming murder 😂🦜 https://t.co/YpdlM2iYTY | Belair National Park\n",
            "https://t.co/zWuCwSkkP5 | Melbourne\n",
            "Great video. I seemed to be in a minority wearing my mask in the supermarket today. But looks an evidenced based pr… https://t.co/fiyiggFjcr | Sydney\n",
            "@merty83793002 F you too, mate! | Sydney\n",
            "So a nurse at work hooked up a palagi nurse with her “cousin” then  ended up marrying her “cousin”.  Guess which island she’s from? 🤦🏾‍♀️🤣 | Sydney\n",
            "@winterjane 还在等11季的我…最后一季了 | Sydney\n",
            "Also @WaikatoStud Savabeel super sire, again NZ Bred horses to the fore. A big day at the office. | Melbourne\n",
            "@PRGuy17 \"Long Time Passing, where have ALL the Trollz Gone, long time Away\", Dumpty dah, dumty Dum. | Arrawarra\n",
            "@abcbrisbane Goodness gracious! Where do #Cooktown residents evacuate to ? Scary  #bushfire #FarNthQld | Townsville\n",
            "Young Thug, Future. 🤷🏾‍♂️ https://t.co/kaUXQHc4BN | Canberra\n",
            "@AlboMP Audit your own teams armpits for the smell! | Victoria\n",
            "@vanOnselenP Lol that she has not even holding his hand | Sunbury\n",
            "@sultan_sydney Paid 12 thousand | Sydney\n",
            "@narelleford You did | Melbourne\n",
            "@lisa_furmama Next stop a burka? | Adelaide\n",
            "@Shaxton88 Boy this show is the real binge till your eyes are sore. Lol. What ep you upto? | Canberra\n",
            "@eyesgk Come on Rubisaki | Warrnambool\n",
            "We should all mail a bottle of bleach to Donald Trump's hospital room and wish him a speedy recovery 😊 | Brisbane\n"
          ],
          "name": "stdout"
        }
      ]
    },
    {
      "cell_type": "markdown",
      "metadata": {
        "id": "g6GP7ST1FyVm"
      },
      "source": [
        "# Clearing tweets data"
      ]
    },
    {
      "cell_type": "code",
      "metadata": {
        "id": "nqKb61F6EZmE",
        "outputId": "2e5bfeca-3d64-47da-84e8-7c2aa8a3caa0",
        "colab": {
          "base_uri": "https://localhost:8080/",
          "height": 1000
        }
      },
      "source": [
        "total_pos = 0\n",
        "total_neg = 0\n",
        "for tweet in list_tweets:\n",
        "    tweet = re.sub(r\"^https://t.co/[a-zA-Z0-9]*\\s\", \" \", tweet)\n",
        "    tweet = re.sub(r\"\\s+https://t.co/[a-zA-Z0-9]*\\s\", \" \", tweet)\n",
        "    tweet = re.sub(r\"\\s+https://t.co/[a-zA-Z0-9]*$\", \" \", tweet)\n",
        "    tweet = tweet.lower()\n",
        "    tweet = re.sub(r\"that's\",\"that is\",tweet)\n",
        "    tweet = re.sub(r\"there's\",\"there is\",tweet)\n",
        "    tweet = re.sub(r\"what's\",\"what is\",tweet)\n",
        "    tweet = re.sub(r\"where's\",\"where is\",tweet)\n",
        "    tweet = re.sub(r\"it's\",\"it is\",tweet)\n",
        "    tweet = re.sub(r\"who's\",\"who is\",tweet)\n",
        "    tweet = re.sub(r\"i'm\",\"i am\",tweet)\n",
        "    tweet = re.sub(r\"she's\",\"she is\",tweet)\n",
        "    tweet = re.sub(r\"he's\",\"he is\",tweet)\n",
        "    tweet = re.sub(r\"they're\",\"they are\",tweet)\n",
        "    tweet = re.sub(r\"who're\",\"who are\",tweet)\n",
        "    tweet = re.sub(r\"ain't\",\"am not\",tweet)\n",
        "    tweet = re.sub(r\"wouldn't\",\"would not\",tweet)\n",
        "    tweet = re.sub(r\"shouldn't\",\"should not\",tweet)\n",
        "    tweet = re.sub(r\"can't\",\"can not\",tweet)\n",
        "    tweet = re.sub(r\"couldn't\",\"could not\",tweet)\n",
        "    tweet = re.sub(r\"won't\",\"will not\",tweet)\n",
        "    tweet = re.sub(r\"\\W\",\" \",tweet)\n",
        "    tweet = re.sub(r\"\\d\",\" \",tweet)\n",
        "    tweet = re.sub(r\"\\s+[a-z]\\s+\",\" \",tweet)\n",
        "    tweet = re.sub(r\"\\s+[a-z]$\",\" \",tweet)\n",
        "    tweet = re.sub(r\"^[a-z]\\s+\",\" \",tweet)\n",
        "    tweet = re.sub(r\"\\s+\",\" \",tweet)\n",
        "    sent = classifier.predict(tfidf.transform([tweet]).toarray())\n",
        "    print(tweet,\":\",sent)\n",
        "\n",
        "    sent = classifier.predict(tfidf.transform([tweet]).toarray())\n",
        "    if sent[0] == 1:\n",
        "      total_pos += 1\n",
        "    else:\n",
        "      total_neg += 1"
      ],
      "execution_count": 6,
      "outputs": [
        {
          "output_type": "stream",
          "text": [
            " gully_point stillll : [0]\n",
            "is it rude to go into red rooster and ask them when they are just going to give up and become kfc  : [0]\n",
            " breefree_ow  : [0]\n",
            " slsandpet use what force is needed : [1]\n",
            " cantceemi eagles mancity who do you follow again  : [0]\n",
            "what try nrlw : [0]\n",
            " colorstv bigboss boycott colors tv these are the times you are defined think carefully world is watching  : [1]\n",
            " jokendray dustypee lockdown is slooooowly sending me nutso : [0]\n",
            " imaracingmom  : [0]\n",
            "my fancy saturday through virtual experience sharing on further education  : [1]\n",
            " roninbendigo he is far from an idiot look closer to home and you ll find one : [1]\n",
            " _shanmoho  : [0]\n",
            "thanks so much to the wonderful people of watson it was great chatting about how we build betternormal greens  : [1]\n",
            " raymartin or god is desperate  : [0]\n",
            "https co sd gv  : [0]\n",
            " ashkate that reminds me need to buy couple of bottles of milk  : [0]\n",
            "  : [0]\n",
            " ginacarano can someone make this real please  : [0]\n",
            "buy this for me and ll send fiat multipla your way  : [0]\n",
            " charkd_ lynch broad ross chol castagna pickett  : [0]\n",
            " knightkingycbm my son last night was talking about footy players now with mullets and asked who was the best and  : [1]\n",
            " noahfarrelly_ yeah great attitude the task is too big let just give up  : [1]\n",
            "right now my tns because they re comfortable love my vans too  : [1]\n",
            "mum amp dad are gonna drop me at woolies when they go out hope mum amp dad leave here at so can rush in for mi  : [1]\n",
            " oye_protein bluntdeep badheshagagan aaaye same here veere sab aajo australia : [0]\n",
            "israel blessing  : [0]\n",
            "what about you kirstigalbraith amp mcintosh_aus  : [0]\n",
            "enjoy your weekend don wait for the sunshine to brighten your day anthony hincks todayslovely now  : [1]\n",
            " feel sick when think about how flatus passed on the covid virus to flotus trump  : [0]\n",
            "my kermit is at his first winery told my sister to focus on teaching him how to open and serve the wine the dri  : [0]\n",
            "gender reveal party idea one parent smashes double jeff jarrett guitar over the head of the other and the  : [0]\n",
            " davidberkelmans nrlw am impressed assuming you watched the odi  : [0]\n",
            " probablynotleah  : [0]\n",
            " decryption macsinspace ok great thank you  : [1]\n",
            " friendship to envy  : [0]\n",
            " irishflightie ikr more of bum man though  : [1]\n",
            "yep warriors are struggling but the warriors left hand defence with pelite and green is great nrlw : [1]\n",
            " angustaylormp albomp australian he is too busy trying to catch his shetland pony  : [0]\n",
            " pialigupta nan_dini_ story still the same we won hear about brahmos or atal tunnel yet hathras will be on ov  : [1]\n",
            "my gratefulacademic top things that got me through covid vic this week isaac in the park hearing  : [1]\n",
            "reality : [0]\n",
            "nice day for walk although the cockatoos are screaming murder  : [1]\n",
            "https co zwucwskkp  : [0]\n",
            "great video seemed to be in minority wearing my mask in the supermarket today but looks an evidenced based pr  : [1]\n",
            " merty you too mate  : [0]\n",
            "so nurse at work hooked up palagi nurse with her cousin then ended up marrying her cousin guess which island she from  : [0]\n",
            " winterjane 还在等 季的我 最后一季了 : [0]\n",
            "also waikatostud savabeel super sire again nz bred horses to the fore big day at the office  : [1]\n",
            " prguy long time passing where have all the trollz gone long time away dumpty dah dumty dum  : [0]\n",
            " abcbrisbane goodness gracious where do cooktown residents evacuate to scary bushfire farnthqld : [0]\n",
            "young thug future  : [1]\n",
            " albomp audit your own teams armpits for the smell  : [0]\n",
            " vanonselenp lol that she has not even holding his hand : [0]\n",
            " sultan_sydney paid thousand : [0]\n",
            " narelleford you did : [0]\n",
            " lisa_furmama next stop burka  : [1]\n",
            " shaxton boy this show is the real binge till your eyes are sore lol what ep you upto  : [1]\n",
            " eyesgk come on rubisaki : [0]\n",
            "we should all mail bottle of bleach to donald trump hospital room and wish him speedy recovery  : [0]\n"
          ],
          "name": "stdout"
        }
      ]
    },
    {
      "cell_type": "markdown",
      "metadata": {
        "id": "0NQ6NiUeF9GJ"
      },
      "source": [
        "#Visualizing the results"
      ]
    },
    {
      "cell_type": "code",
      "metadata": {
        "id": "sXNdaG8TEZpW",
        "outputId": "0ca4e005-01d5-4130-ec55-b8f7a06d15c2",
        "colab": {
          "base_uri": "https://localhost:8080/",
          "height": 281
        }
      },
      "source": [
        "# Visualizing the results\n",
        "import matplotlib.pyplot as plt\n",
        "import numpy as np\n",
        "objects = ['Positive','Negative']\n",
        "y_pos = np.arange(len(objects))\n",
        "\n",
        "plt.bar(y_pos,[total_pos,total_neg],alpha=0.5)\n",
        "plt.xticks(y_pos,objects)\n",
        "plt.ylabel('Number')\n",
        "plt.title('Number of Postive and NEgative Tweets ')\n",
        "plt.show()\n",
        "\n"
      ],
      "execution_count": 7,
      "outputs": [
        {
          "output_type": "display_data",
          "data": {
            "image/png": "[encoded data removed]",
            "text/plain": [
              "<Figure size 432x288 with 1 Axes>"
            ]
          },
          "metadata": {
            "tags": [],
            "needs_background": "light"
          }
        }
      ]
    }
  ]
}